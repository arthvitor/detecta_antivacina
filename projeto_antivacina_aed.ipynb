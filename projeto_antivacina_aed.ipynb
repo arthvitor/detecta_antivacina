{
 "cells": [
  {
   "attachments": {},
   "cell_type": "markdown",
   "metadata": {},
   "source": [
    "# Projeto - Detector de _tweets_ Antivacina - Análise Exploatória de Dados\n",
    "Detector de tweets antivacina | Esse projeto tem como objetivo raspar tweets recentes da API oficial do Twitter, fazer uma análise exploratória das métricas e treinar e classificar automaticamente os tweets como potenciais pró-vacina ou antivacina. \n",
    "\n",
    "Projeto realizado como trabalho final da disciplina Pensamento Computacional, do programa de pós-graduação em Jornalismo de Dados, Automação e Data Storytelling do Insper\n",
    "\n",
    "Profs: Guilherme Dias Felitti e Alvaro Jusen\n",
    "\n",
    "OBS: Requisições realizadas localmente por problemas de RAM do Colab"
   ]
  },
  {
   "cell_type": "code",
   "execution_count": null,
   "metadata": {},
   "outputs": [],
   "source": [
    "# instalando bibliotecas\n",
    "! pip install altair\n",
    "! pip install missingno\n",
    "! pip install wordcloud"
   ]
  },
  {
   "cell_type": "code",
   "execution_count": 101,
   "metadata": {},
   "outputs": [],
   "source": [
    "# importando bibliotecas para AED\n",
    "import pandas as pd\n",
    "import altair as alt  # visualização de dados\n",
    "import missingno as msno  # verificação de missing data\n",
    "import datetime\n",
    "from ast import literal_eval\n",
    "\n",
    "# importando bibliotecas necessárias para o wordcloud\n",
    "import numpy as np\n",
    "import matplotlib.pyplot as plt\n",
    "from wordcloud import WordCloud, STOPWORDS"
   ]
  },
  {
   "attachments": {},
   "cell_type": "markdown",
   "metadata": {},
   "source": [
    "# Etapa 6: Realizando Análise Exploratória de Dados"
   ]
  },
  {
   "attachments": {},
   "cell_type": "markdown",
   "metadata": {},
   "source": [
    "A análise irá levar em consideração o algoritmo \"MaxentClassifier\", pois apresentou um resultado mais satisfatório que os outros algoritmos"
   ]
  },
  {
   "cell_type": "code",
   "execution_count": 102,
   "metadata": {},
   "outputs": [],
   "source": [
    "df_classificacao = pd.read_csv(r'tweets_classificados.csv', converters={'sem_stop': literal_eval})"
   ]
  },
  {
   "attachments": {},
   "cell_type": "markdown",
   "metadata": {},
   "source": [
    "## Apresentando gráfico de missing data no banco"
   ]
  },
  {
   "cell_type": "code",
   "execution_count": null,
   "metadata": {},
   "outputs": [],
   "source": [
    "msno.matrix(df_classificacao)"
   ]
  },
  {
   "attachments": {},
   "cell_type": "markdown",
   "metadata": {},
   "source": [
    "## Demonstrando estatística descritiva para as métricas dos tweets"
   ]
  },
  {
   "cell_type": "code",
   "execution_count": 104,
   "metadata": {},
   "outputs": [
    {
     "data": {
      "text/plain": [
       "count   15255.00\n",
       "mean     1335.85\n",
       "std      1397.35\n",
       "min         0.00\n",
       "25%         2.00\n",
       "50%       757.00\n",
       "75%      2623.00\n",
       "max     10143.00\n",
       "Name: retweet, dtype: float64"
      ]
     },
     "execution_count": 104,
     "metadata": {},
     "output_type": "execute_result"
    }
   ],
   "source": [
    "# Resumo estatístico - retweets\n",
    "df_classificacao['retweet'].describe()"
   ]
  },
  {
   "cell_type": "code",
   "execution_count": 105,
   "metadata": {},
   "outputs": [
    {
     "data": {
      "text/plain": [
       "count   15255.00\n",
       "mean        1.31\n",
       "std        58.62\n",
       "min         0.00\n",
       "25%         0.00\n",
       "50%         0.00\n",
       "75%         0.00\n",
       "max      6554.00\n",
       "Name: likes, dtype: float64"
      ]
     },
     "execution_count": 105,
     "metadata": {},
     "output_type": "execute_result"
    }
   ],
   "source": [
    "# Resumo estatístico - likes\n",
    "df_classificacao['likes'].describe()"
   ]
  },
  {
   "cell_type": "code",
   "execution_count": 106,
   "metadata": {},
   "outputs": [
    {
     "data": {
      "text/plain": [
       "count   15255.00\n",
       "mean        0.11\n",
       "std         1.92\n",
       "min         0.00\n",
       "25%         0.00\n",
       "50%         0.00\n",
       "75%         0.00\n",
       "max       199.00\n",
       "Name: respostas, dtype: float64"
      ]
     },
     "execution_count": 106,
     "metadata": {},
     "output_type": "execute_result"
    }
   ],
   "source": [
    "# Resumo estatístico - respostas\n",
    "df_classificacao['respostas'].describe()  # aparentemente não há muitas respostas no banco de dados"
   ]
  },
  {
   "cell_type": "code",
   "execution_count": 107,
   "metadata": {},
   "outputs": [
    {
     "data": {
      "text/plain": [
       "count   15255.00\n",
       "mean        0.02\n",
       "std         0.73\n",
       "min         0.00\n",
       "25%         0.00\n",
       "50%         0.00\n",
       "75%         0.00\n",
       "max        85.00\n",
       "Name: menções, dtype: float64"
      ]
     },
     "execution_count": 107,
     "metadata": {},
     "output_type": "execute_result"
    }
   ],
   "source": [
    "# Resumo estatístico - menções\n",
    "df_classificacao['menções'].describe()  # aparentemente não há muitas menções no banco de dados"
   ]
  },
  {
   "attachments": {},
   "cell_type": "markdown",
   "metadata": {},
   "source": [
    "## Fazendo algumas análises"
   ]
  },
  {
   "cell_type": "code",
   "execution_count": 108,
   "metadata": {},
   "outputs": [
    {
     "data": {
      "text/html": [
       "<div>\n",
       "<style scoped>\n",
       "    .dataframe tbody tr th:only-of-type {\n",
       "        vertical-align: middle;\n",
       "    }\n",
       "\n",
       "    .dataframe tbody tr th {\n",
       "        vertical-align: top;\n",
       "    }\n",
       "\n",
       "    .dataframe thead tr th {\n",
       "        text-align: left;\n",
       "    }\n",
       "\n",
       "    .dataframe thead tr:last-of-type th {\n",
       "        text-align: right;\n",
       "    }\n",
       "</style>\n",
       "<table border=\"1\" class=\"dataframe\">\n",
       "  <thead>\n",
       "    <tr>\n",
       "      <th></th>\n",
       "      <th colspan=\"8\" halign=\"left\">Unnamed: 0</th>\n",
       "      <th colspan=\"2\" halign=\"left\">retweet</th>\n",
       "      <th>...</th>\n",
       "      <th colspan=\"2\" halign=\"left\">likes</th>\n",
       "      <th colspan=\"8\" halign=\"left\">menções</th>\n",
       "    </tr>\n",
       "    <tr>\n",
       "      <th></th>\n",
       "      <th>count</th>\n",
       "      <th>mean</th>\n",
       "      <th>std</th>\n",
       "      <th>min</th>\n",
       "      <th>25%</th>\n",
       "      <th>50%</th>\n",
       "      <th>75%</th>\n",
       "      <th>max</th>\n",
       "      <th>count</th>\n",
       "      <th>mean</th>\n",
       "      <th>...</th>\n",
       "      <th>75%</th>\n",
       "      <th>max</th>\n",
       "      <th>count</th>\n",
       "      <th>mean</th>\n",
       "      <th>std</th>\n",
       "      <th>min</th>\n",
       "      <th>25%</th>\n",
       "      <th>50%</th>\n",
       "      <th>75%</th>\n",
       "      <th>max</th>\n",
       "    </tr>\n",
       "    <tr>\n",
       "      <th>classificacao_MaxentClassifier</th>\n",
       "      <th></th>\n",
       "      <th></th>\n",
       "      <th></th>\n",
       "      <th></th>\n",
       "      <th></th>\n",
       "      <th></th>\n",
       "      <th></th>\n",
       "      <th></th>\n",
       "      <th></th>\n",
       "      <th></th>\n",
       "      <th></th>\n",
       "      <th></th>\n",
       "      <th></th>\n",
       "      <th></th>\n",
       "      <th></th>\n",
       "      <th></th>\n",
       "      <th></th>\n",
       "      <th></th>\n",
       "      <th></th>\n",
       "      <th></th>\n",
       "      <th></th>\n",
       "    </tr>\n",
       "  </thead>\n",
       "  <tbody>\n",
       "    <tr>\n",
       "      <th>antivacina</th>\n",
       "      <td>2347.00</td>\n",
       "      <td>8906.31</td>\n",
       "      <td>4518.14</td>\n",
       "      <td>1.00</td>\n",
       "      <td>5314.50</td>\n",
       "      <td>10085.00</td>\n",
       "      <td>12880.50</td>\n",
       "      <td>15415.00</td>\n",
       "      <td>2347.00</td>\n",
       "      <td>129.88</td>\n",
       "      <td>...</td>\n",
       "      <td>0.00</td>\n",
       "      <td>1055.00</td>\n",
       "      <td>2347.00</td>\n",
       "      <td>0.02</td>\n",
       "      <td>0.20</td>\n",
       "      <td>0.00</td>\n",
       "      <td>0.00</td>\n",
       "      <td>0.00</td>\n",
       "      <td>0.00</td>\n",
       "      <td>7.00</td>\n",
       "    </tr>\n",
       "    <tr>\n",
       "      <th>neutro</th>\n",
       "      <td>6146.00</td>\n",
       "      <td>7233.17</td>\n",
       "      <td>4812.72</td>\n",
       "      <td>6.00</td>\n",
       "      <td>2943.75</td>\n",
       "      <td>5927.50</td>\n",
       "      <td>11926.25</td>\n",
       "      <td>17296.00</td>\n",
       "      <td>6146.00</td>\n",
       "      <td>2055.53</td>\n",
       "      <td>...</td>\n",
       "      <td>0.00</td>\n",
       "      <td>6554.00</td>\n",
       "      <td>6146.00</td>\n",
       "      <td>0.02</td>\n",
       "      <td>1.09</td>\n",
       "      <td>0.00</td>\n",
       "      <td>0.00</td>\n",
       "      <td>0.00</td>\n",
       "      <td>0.00</td>\n",
       "      <td>85.00</td>\n",
       "    </tr>\n",
       "    <tr>\n",
       "      <th>pro_vacina</th>\n",
       "      <td>6762.00</td>\n",
       "      <td>7759.10</td>\n",
       "      <td>3973.65</td>\n",
       "      <td>0.00</td>\n",
       "      <td>4838.50</td>\n",
       "      <td>7809.00</td>\n",
       "      <td>10547.50</td>\n",
       "      <td>15417.00</td>\n",
       "      <td>6762.00</td>\n",
       "      <td>1100.29</td>\n",
       "      <td>...</td>\n",
       "      <td>0.00</td>\n",
       "      <td>2449.00</td>\n",
       "      <td>6762.00</td>\n",
       "      <td>0.01</td>\n",
       "      <td>0.32</td>\n",
       "      <td>0.00</td>\n",
       "      <td>0.00</td>\n",
       "      <td>0.00</td>\n",
       "      <td>0.00</td>\n",
       "      <td>18.00</td>\n",
       "    </tr>\n",
       "  </tbody>\n",
       "</table>\n",
       "<p>3 rows × 40 columns</p>\n",
       "</div>"
      ],
      "text/plain": [
       "                               Unnamed: 0                               \\\n",
       "                                    count    mean     std  min     25%   \n",
       "classificacao_MaxentClassifier                                           \n",
       "antivacina                        2347.00 8906.31 4518.14 1.00 5314.50   \n",
       "neutro                            6146.00 7233.17 4812.72 6.00 2943.75   \n",
       "pro_vacina                        6762.00 7759.10 3973.65 0.00 4838.50   \n",
       "\n",
       "                                                          retweet          \\\n",
       "                                    50%      75%      max   count    mean   \n",
       "classificacao_MaxentClassifier                                              \n",
       "antivacina                     10085.00 12880.50 15415.00 2347.00  129.88   \n",
       "neutro                          5927.50 11926.25 17296.00 6146.00 2055.53   \n",
       "pro_vacina                      7809.00 10547.50 15417.00 6762.00 1100.29   \n",
       "\n",
       "                                ... likes         menções                      \\\n",
       "                                ...   75%     max   count mean  std  min  25%   \n",
       "classificacao_MaxentClassifier  ...                                             \n",
       "antivacina                      ...  0.00 1055.00 2347.00 0.02 0.20 0.00 0.00   \n",
       "neutro                          ...  0.00 6554.00 6146.00 0.02 1.09 0.00 0.00   \n",
       "pro_vacina                      ...  0.00 2449.00 6762.00 0.01 0.32 0.00 0.00   \n",
       "\n",
       "                                                \n",
       "                                50%  75%   max  \n",
       "classificacao_MaxentClassifier                  \n",
       "antivacina                     0.00 0.00  7.00  \n",
       "neutro                         0.00 0.00 85.00  \n",
       "pro_vacina                     0.00 0.00 18.00  \n",
       "\n",
       "[3 rows x 40 columns]"
      ]
     },
     "execution_count": 108,
     "metadata": {},
     "output_type": "execute_result"
    }
   ],
   "source": [
    "# tirando a notação científica\n",
    "pd.set_option('display.float_format', lambda x: '%.2f' %x)\n",
    "\n",
    "# agrupando tweets por tipo de análise\n",
    "df_classificacao['id_autor'] = df_classificacao['id_autor'].map(str)\n",
    "agrupado_classificacao = df_classificacao.groupby(['classificacao_MaxentClassifier']).describe()\n",
    "agrupado_classificacao.head()"
   ]
  },
  {
   "cell_type": "code",
   "execution_count": 109,
   "metadata": {},
   "outputs": [],
   "source": [
    "# agrupando tweets por tipo de análise\n",
    "somado_classificacao = df_classificacao.groupby(['classificacao_MaxentClassifier']).sum()\n",
    "\n",
    "\n",
    "# Criando função com resposta da análise automática\n",
    "def rank_metrica(metrica):\n",
    "    metrica_desejada = somado_classificacao.sort_values(by=metrica, ascending=False)\n",
    "    primeiro = metrica_desejada[metrica].keys()[0]\n",
    "    valor = metrica_desejada[metrica][0]\n",
    "    print(f'O tipo de classificação que tem mais {metrica} é o {primeiro}, com a contagem de {valor} {metrica}')"
   ]
  },
  {
   "cell_type": "code",
   "execution_count": 110,
   "metadata": {},
   "outputs": [
    {
     "name": "stdout",
     "output_type": "stream",
     "text": [
      "O tipo de classificação que tem mais retweet é o neutro, com a contagem de 12633304 retweet\n",
      "O tipo de classificação que tem mais likes é o neutro, com a contagem de 9609 likes\n",
      "O tipo de classificação que tem mais respostas é o pro_vacina, com a contagem de 681 respostas\n",
      "O tipo de classificação que tem mais menções é o neutro, com a contagem de 119 menções\n"
     ]
    }
   ],
   "source": [
    "# mostrando saida de texto automática para métricas somadas\n",
    "metricas = ['retweet', 'likes', 'respostas', 'menções']\n",
    "\n",
    "for metrica in metricas:\n",
    "    rank_metrica(metrica)"
   ]
  },
  {
   "attachments": {},
   "cell_type": "markdown",
   "metadata": {},
   "source": [
    "# Etapa 7: Tratando o dataframe usando ```pd.melt()``` e Visualizando dados"
   ]
  },
  {
   "attachments": {},
   "cell_type": "markdown",
   "metadata": {},
   "source": [
    "Criando um dataframe com tidy data para tornar possível visualizações melhores"
   ]
  },
  {
   "cell_type": "code",
   "execution_count": 111,
   "metadata": {},
   "outputs": [],
   "source": [
    "# Deixando o dado em tidy - problema com as métricas\n",
    "df_tidy = pd.melt(\n",
    "    df_classificacao,\n",
    "    id_vars = ['tweet', 'fonte', 'data_postagem', 'idioma', 'id_autor', 'tipo', 'bag_of_words', 'classificacao_MaxentClassifier', 'classificacao_SklearnClassifier', 'classificacao_NaiveBayesClassifier', 'sem_stop'],\n",
    "    var_name = 'tipo_metrica',\n",
    "    value_name= 'valor_metrica'\n",
    ")"
   ]
  },
  {
   "cell_type": "code",
   "execution_count": 112,
   "metadata": {},
   "outputs": [],
   "source": [
    "# Transformando datetime em strings por causa de um bug do altair (https://github.com/altair-viz/altair/issues/1931)\n",
    "df_tidy['data_postagem'] = df_tidy['data_postagem'].map(str)"
   ]
  },
  {
   "cell_type": "code",
   "execution_count": 113,
   "metadata": {},
   "outputs": [],
   "source": [
    "# Retirando métricas zeradas\n",
    "df_tidy = df_tidy.query('  tipo_metrica != \"Unnamed: 0\"  ')"
   ]
  },
  {
   "cell_type": "code",
   "execution_count": null,
   "metadata": {},
   "outputs": [],
   "source": [
    "# desativando o max_row do altair\n",
    "alt.data_transformers.disable_max_rows()\n",
    "\n",
    "# verificando outliers com boxplot\n",
    "alt.Chart(df_tidy).mark_boxplot().encode(\n",
    "    x = 'tipo_metrica',\n",
    "    y = 'valor_metrica',\n",
    "    color = 'tipo',\n",
    "    tooltip = ['tweet']).interactive()"
   ]
  },
  {
   "cell_type": "code",
   "execution_count": null,
   "metadata": {},
   "outputs": [],
   "source": [
    "# verificando outliers com boxplot\n",
    "alt.Chart(df_tidy).mark_boxplot().encode(\n",
    "    x = alt.X('classificacao_MaxentClassifier', title = None),\n",
    "    y = 'valor_metrica',\n",
    "    column = 'tipo_metrica',\n",
    "    color = 'tipo',\n",
    "    tooltip = ['tweet']).interactive()"
   ]
  },
  {
   "cell_type": "code",
   "execution_count": 1,
   "metadata": {},
   "outputs": [],
   "source": [
    "# fazendo função de geração de nuvem de palavras\n",
    "def nuvem_palavras(dataframe):\n",
    "   \n",
    "    tuite = []\n",
    "    for indice, coluna in dataframe.iterrows():\n",
    "        dataframe_limpo = ' '.join(coluna['sem_stop'])\n",
    "        tuite.append(dataframe_limpo)\n",
    "\n",
    "    # motando nuvem de palavras geral do dataframe\n",
    "    nuvem = WordCloud().generate(str(tuite))\n",
    "    plt.imshow(nuvem, interpolation='bilinear')\n",
    "    plt.axis('off')"
   ]
  },
  {
   "cell_type": "code",
   "execution_count": null,
   "metadata": {},
   "outputs": [],
   "source": [
    "# Fazendo nuvem de palavras geral\n",
    "nuvem_palavras(df_tidy)"
   ]
  },
  {
   "cell_type": "code",
   "execution_count": null,
   "metadata": {},
   "outputs": [],
   "source": [
    "# fazendo somente para tweets classificados como pró-vacina\n",
    "pro_vacina_tweets = df_tidy.query('  classificacao_MaxentClassifier == \"pro_vacina\"   ')\n",
    "nuvem_palavras(pro_vacina_tweets)"
   ]
  },
  {
   "cell_type": "code",
   "execution_count": null,
   "metadata": {},
   "outputs": [],
   "source": [
    "# fazendo somente para tweets classificados como antivacina\n",
    "antivacina_tweets = df_tidy.query('  classificacao_MaxentClassifier == \"antivacina\"   ')\n",
    "nuvem_palavras(antivacina_tweets)"
   ]
  }
 ],
 "metadata": {
  "kernelspec": {
   "display_name": "Python 3",
   "language": "python",
   "name": "python3"
  },
  "language_info": {
   "codemirror_mode": {
    "name": "ipython",
    "version": 3
   },
   "file_extension": ".py",
   "mimetype": "text/x-python",
   "name": "python",
   "nbconvert_exporter": "python",
   "pygments_lexer": "ipython3",
   "version": "3.9.12 (main, Apr  4 2022, 05:22:27) [MSC v.1916 64 bit (AMD64)]"
  },
  "orig_nbformat": 4,
  "vscode": {
   "interpreter": {
    "hash": "3a23c1fff748fd79ca478c64f9bf3d1c6a1797515f98b9b89ff038832e665379"
   }
  }
 },
 "nbformat": 4,
 "nbformat_minor": 2
}
