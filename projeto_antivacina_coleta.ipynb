{
 "cells": [
  {
   "attachments": {},
   "cell_type": "markdown",
   "metadata": {},
   "source": [
    "# Projeto - Detector de _tweets_ Antivacina - Coleta\n",
    "Detector de tweets antivacina | Esse projeto tem como objetivo raspar tweets recentes da API oficial do Twitter, fazer uma análise exploratória das métricas e treinar e classificar automaticamente os tweets como potenciais pró-vacina ou antivacina. \n",
    "\n",
    "Projeto realizado como trabalho final da disciplina Pensamento Computacional, do programa de pós-graduação em Jornalismo de Dados, Automação e Data Storytelling do Insper\n",
    "\n",
    "Profs: Guilherme Dias Felitti e Alvaro Jusen\n",
    "\n",
    "OBS: Requisições realizadas localmente por problemas de RAM do Colab"
   ]
  },
  {
   "attachments": {},
   "cell_type": "markdown",
   "metadata": {},
   "source": [
    "# Etapa 1 - Primeiros passos\n",
    "Importando bibliotecas que serão utilizadas na coleta"
   ]
  },
  {
   "cell_type": "code",
   "execution_count": 1,
   "metadata": {},
   "outputs": [],
   "source": [
    "# importando bibliotecas para requição e AED\n",
    "import pandas as pd\n",
    "import os\n",
    "import requests\n",
    "import json\n",
    "\n",
    "# bibliotecas de suporte para requisição específica da API do Twitter\n",
    "import csv\n",
    "import datetime\n",
    "import time\n",
    "import dateutil.parser\n",
    "import unicodedata"
   ]
  },
  {
   "cell_type": "code",
   "execution_count": 2,
   "metadata": {},
   "outputs": [],
   "source": [
    "# Criando função para realizar autentificação do App\n",
    "# os.environ['TOKEN'] = '****' # chave de autenficação que o Twitter fornece (não funciona se não tiver uma)\n",
    "def autentificar():\n",
    "    return os.getenv('TOKEN')"
   ]
  },
  {
   "cell_type": "code",
   "execution_count": 3,
   "metadata": {},
   "outputs": [],
   "source": [
    "# Criando função que retornará os headers para fazer a requisição\n",
    "def criando_header(bearer_token):\n",
    "    headers = {'Authorization': f'Bearer {bearer_token}'}\n",
    "    return headers"
   ]
  },
  {
   "cell_type": "code",
   "execution_count": 4,
   "metadata": {},
   "outputs": [],
   "source": [
    "# criando URL para realizar a requisição / definição dos parâmetros\n",
    "def criando_URL(palavra_chave, resultado_maximo):\n",
    "    # endpoint que será utilizada\n",
    "    endpoint = 'https://api.twitter.com/2/tweets/search/recent'\n",
    "\n",
    "    # parâmetros que serão utilizados\n",
    "    parametros = {'query': palavra_chave,\n",
    "                  'max_results': resultado_maximo,\n",
    "                  'expansions': 'author_id,in_reply_to_user_id,geo.place_id',\n",
    "                  'tweet.fields': 'id,text,author_id,in_reply_to_user_id,geo,conversation_id,created_at,lang,public_metrics,referenced_tweets,reply_settings,source',\n",
    "                  'user.fields': 'id,name,username,created_at,description,public_metrics,verified',\n",
    "                  'next_token': {}}\n",
    "    return (endpoint, parametros)"
   ]
  },
  {
   "attachments": {},
   "cell_type": "markdown",
   "metadata": {},
   "source": [
    "# Etapa 2 - Requisição de API e criação do banco de dados do projeto\n"
   ]
  },
  {
   "attachments": {},
   "cell_type": "markdown",
   "metadata": {},
   "source": [
    "## Criando funções para requisição no Twitter API v2, fazendo requisição na endpoint \"```/2/tweets/search/recent```\" "
   ]
  },
  {
   "cell_type": "code",
   "execution_count": 5,
   "metadata": {},
   "outputs": [],
   "source": [
    "# criando função para se conectar ao endpoint\n",
    "def conecta_endpoint(url, headers, parametros, next_token = None):\n",
    "    parametros['next_token'] = next_token\n",
    "    response  = requests.request('GET', url, headers = headers, params = parametros)\n",
    "    print(f'Código de resposta do Endpoint: {str(response.status_code)}')\n",
    "    if response.status_code != 200:\n",
    "        raise Exception(response.status_code, requests.Response.text)\n",
    "    return response.json()"
   ]
  },
  {
   "cell_type": "code",
   "execution_count": 7,
   "metadata": {},
   "outputs": [],
   "source": [
    "# criando função para organizar os dados da coleta dentro de uma lista\n",
    "def organiza_dados(resposta):\n",
    "\n",
    "    # Criando variáveis para guardar em dicionário\n",
    "    data = list()\n",
    "\n",
    "    # Salvando dados de Data do Twitter\n",
    "    for valores in range(len(resposta)):\n",
    "        for l in range(len(resposta[valores]['data'])):\n",
    "            data.append(resposta[valores]['data'][l])\n",
    "\n",
    "    # transformando os dados de data em dataframe\n",
    "    dataframe_data = pd.json_normalize(data)\n",
    "    dataframe_data = dataframe_data.explode('referenced_tweets', ignore_index=True)\n",
    "    normal = pd.json_normalize(dataframe_data['referenced_tweets'])\n",
    "    dataframe_data = dataframe_data.join(normal, how = 'left', lsuffix='left', rsuffix='right').drop(columns = ['referenced_tweets'])\n",
    "\n",
    "    return dataframe_data\n"
   ]
  },
  {
   "cell_type": "code",
   "execution_count": null,
   "metadata": {},
   "outputs": [],
   "source": [
    "#Testando a captura\n",
    "bearer_token = autentificar()\n",
    "headers = criando_header(bearer_token)\n",
    "palavra_chave = \"vacina\"\n",
    "resultado_maximo = 10\n",
    "url = criando_URL(palavra_chave, resultado_maximo)\n",
    "resposta_coleta2 = conecta_endpoint(url[0], headers, url[1])\n",
    "print(json.dumps(resposta_coleta2, indent = 4, sort_keys = True))"
   ]
  },
  {
   "attachments": {},
   "cell_type": "markdown",
   "metadata": {},
   "source": [
    "## Realizando requisição usando as funções definidas e armazenando resultado em um dataframe."
   ]
  },
  {
   "cell_type": "code",
   "execution_count": null,
   "metadata": {},
   "outputs": [],
   "source": [
    "# Realizando a captura automatizada\n",
    "# Autentificando e criando query da busca\n",
    "bearer_token = autentificar()\n",
    "headers = criando_header(bearer_token)\n",
    "palavra_chave = 'vacina OR vacinação OR antivacina'\n",
    "resultado_maximo_pesquisa = 100\n",
    "valor_maximo = 10000\n",
    "\n",
    "# Criando laço de repetição para capturar até que o resultado máximo seja alcançado\n",
    "contador = 0\n",
    "flag = True\n",
    "next_token = None\n",
    "coleta = list()\n",
    "while flag:\n",
    "    # se o número máximo da coleta for atingido\n",
    "    if contador >= valor_maximo:\n",
    "        print('Atingi o valor máximo da coleta. Ufa!')\n",
    "        break\n",
    "   \n",
    "    print(f'Token: {next_token}')\n",
    "    url = criando_URL(palavra_chave, resultado_maximo_pesquisa)\n",
    "    resposta_coleta = conecta_endpoint(url[0], headers, url[1], next_token)\n",
    "    total_resultado_rodada = resposta_coleta['meta']['result_count']\n",
    "\n",
    "    # se a próxima página existir\n",
    "    if 'next_token' in resposta_coleta['meta']:\n",
    "        print(f'Token: {next_token}')\n",
    "        next_token = resposta_coleta['meta']['next_token']\n",
    "        if total_resultado_rodada is not None and total_resultado_rodada > 0 and next_token is not None:         \n",
    "            contador += total_resultado_rodada\n",
    "            coleta.append(resposta_coleta)\n",
    "            time.sleep(5)\n",
    " \n",
    "    # se for a última página para coleta\n",
    "    else:\n",
    "        if total_resultado_rodada is not None and total_resultado_rodada > 0:\n",
    "            coleta.append(resposta_coleta)\n",
    "            contador += total_resultado_rodada\n",
    "            time.sleep(5)\n",
    "        \n",
    "        # desativando o laço infinito\n",
    "        flag = False\n",
    "        next_token = None\n",
    "\n",
    "    time.sleep(5)\n",
    "dataframe_coleta = organiza_dados(coleta)\n",
    "print(f'Coleta concluída com sucesso!')"
   ]
  },
  {
   "cell_type": "code",
   "execution_count": null,
   "metadata": {},
   "outputs": [],
   "source": [
    "# Exportando arquivos de coleta para csv\n",
    "dataframe_coleta.to_csv('dataset2.csv')"
   ]
  }
 ],
 "metadata": {
  "kernelspec": {
   "display_name": "Python 3",
   "language": "python",
   "name": "python3"
  },
  "language_info": {
   "codemirror_mode": {
    "name": "ipython",
    "version": 3
   },
   "file_extension": ".py",
   "mimetype": "text/x-python",
   "name": "python",
   "nbconvert_exporter": "python",
   "pygments_lexer": "ipython3",
   "version": "3.9.12 (main, Apr  4 2022, 05:22:27) [MSC v.1916 64 bit (AMD64)]"
  },
  "orig_nbformat": 4,
  "vscode": {
   "interpreter": {
    "hash": "3a23c1fff748fd79ca478c64f9bf3d1c6a1797515f98b9b89ff038832e665379"
   }
  }
 },
 "nbformat": 4,
 "nbformat_minor": 2
}
